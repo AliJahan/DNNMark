{
 "cells": [
  {
   "cell_type": "markdown",
   "metadata": {},
   "source": [
    "# DNN BS per convolution output size\n",
    "\n",
    "Run on Mouse\n",
    "```\n",
    "19Jun1656peter@mouse:~/DNNMark$ python run_series.py\n",
    "Logdir logs/dnnmark_timings_and_profiles/\n",
    "Have 320 tasks\n",
    "checking GPU 0....Starting\n",
    "./run_dnnmark.sh -n 10 -k 32 --debug\n",
    "...\n",
    "\n",
    "```\n",
    "\n",
    "Log files\n",
    "```\n",
    "dnn_bwd_conv_conv256_bs20_18837.nvprof  - profiling data (kernels)\n",
    "dnn_bwd_conv_conv256_bs20.log           - stdout + stderr (parse for run time)\n",
    "dnn_bwd_conv_conv256_bs20.log.nvsmi     - nvidia-smi memory usage data\n",
    "dnn_bwd_conv_conv256_bs20_%p.nvprof     - run for nvprof output (not used)\n",
    "```\n",
    "\n"
   ]
  },
  {
   "cell_type": "markdown",
   "metadata": {},
   "source": [
    "## Read .log files"
   ]
  },
  {
   "cell_type": "code",
   "execution_count": 1,
   "metadata": {},
   "outputs": [],
   "source": [
    "%matplotlib inline\n",
    "import re\n",
    "import numpy as np\n",
    "import matplotlib\n",
    "import matplotlib.pyplot as plt\n",
    "from matplotlib import cm\n",
    "import pandas as pd\n",
    "import subprocess\n",
    "import os\n",
    "import lib\n",
    "import seaborn as sns\n",
    "import itertools\n",
    "from cycler import cycler\n",
    "from random import randint\n",
    "import math"
   ]
  },
  {
   "cell_type": "code",
   "execution_count": 2,
   "metadata": {},
   "outputs": [],
   "source": [
    "batch_conv_pattern = re.compile(r\"b\\s*(\\d+)\\s+conv\\s*([0-9\\.]+)\")\n",
    "output_pattern = re.compile(r\"Total running time\\(ms\\): ([0-9\\.\\e\\+]+)\")\n",
    "filename_pattern=re.compile(r\"^dnn_bwd_conv_conv([0-9]+)_bs([0-9]+)\\.log$\")\n",
    "\n",
    "pars = {\n",
    "    \"batch_conv_pattern\": batch_conv_pattern,\n",
    "    \"output_pattern\" : output_pattern,\n",
    "    \"filename_pattern\" : filename_pattern,\n",
    "}"
   ]
  },
  {
   "cell_type": "code",
   "execution_count": 6,
   "metadata": {},
   "outputs": [
    {
     "name": "stdout",
     "output_type": "stream",
     "text": [
      "(47, 4)\n"
     ]
    },
    {
     "data": {
      "text/html": [
       "<div>\n",
       "<style scoped>\n",
       "    .dataframe tbody tr th:only-of-type {\n",
       "        vertical-align: middle;\n",
       "    }\n",
       "\n",
       "    .dataframe tbody tr th {\n",
       "        vertical-align: top;\n",
       "    }\n",
       "\n",
       "    .dataframe thead th {\n",
       "        text-align: right;\n",
       "    }\n",
       "</style>\n",
       "<table border=\"1\" class=\"dataframe\">\n",
       "  <thead>\n",
       "    <tr style=\"text-align: right;\">\n",
       "      <th></th>\n",
       "      <th>batch</th>\n",
       "      <th>conv</th>\n",
       "      <th>time</th>\n",
       "    </tr>\n",
       "  </thead>\n",
       "  <tbody>\n",
       "    <tr>\n",
       "      <th>0</th>\n",
       "      <td>10</td>\n",
       "      <td>32</td>\n",
       "      <td>8.19775</td>\n",
       "    </tr>\n",
       "    <tr>\n",
       "      <th>1</th>\n",
       "      <td>10</td>\n",
       "      <td>64</td>\n",
       "      <td>13.86820</td>\n",
       "    </tr>\n",
       "    <tr>\n",
       "      <th>2</th>\n",
       "      <td>10</td>\n",
       "      <td>128</td>\n",
       "      <td>23.89530</td>\n",
       "    </tr>\n",
       "    <tr>\n",
       "      <th>3</th>\n",
       "      <td>10</td>\n",
       "      <td>256</td>\n",
       "      <td>47.69800</td>\n",
       "    </tr>\n",
       "    <tr>\n",
       "      <th>4</th>\n",
       "      <td>20</td>\n",
       "      <td>32</td>\n",
       "      <td>13.74220</td>\n",
       "    </tr>\n",
       "  </tbody>\n",
       "</table>\n",
       "</div>"
      ],
      "text/plain": [
       "   batch  conv      time\n",
       "0     10    32   8.19775\n",
       "1     10    64  13.86820\n",
       "2     10   128  23.89530\n",
       "3     10   256  47.69800\n",
       "4     20    32  13.74220"
      ]
     },
     "execution_count": 6,
     "metadata": {},
     "output_type": "execute_result"
    }
   ],
   "source": [
    "logdir=\"logs/dnnmark_timings_and_profiles\"\n",
    "dflog = lib.lib.readLogs(logdir,pars,debug=False)\n",
    "print dflog.shape\n",
    "dflog.drop(\"epoch\", axis=1, inplace=True)\n",
    "dflog[[\"batch\",\"conv\"]] = dflog[[\"batch\",\"conv\"]].astype(np.int)\n",
    "dflog.sort_values(by=[\"batch\",\"conv\"],inplace=True)\n",
    "dflog.reset_index(drop=True,inplace=True)\n",
    "dflog.head()"
   ]
  },
  {
   "cell_type": "markdown",
   "metadata": {},
   "source": [
    "## Read .nvsmi files"
   ]
  },
  {
   "cell_type": "code",
   "execution_count": null,
   "metadata": {},
   "outputs": [],
   "source": []
  }
 ],
 "metadata": {
  "kernelspec": {
   "display_name": "Python 2",
   "language": "python",
   "name": "python2"
  },
  "language_info": {
   "codemirror_mode": {
    "name": "ipython",
    "version": 2
   },
   "file_extension": ".py",
   "mimetype": "text/x-python",
   "name": "python",
   "nbconvert_exporter": "python",
   "pygments_lexer": "ipython2",
   "version": "2.7.11"
  },
  "toc": {
   "base_numbering": 1,
   "nav_menu": {},
   "number_sections": true,
   "sideBar": true,
   "skip_h1_title": true,
   "title_cell": "Table of Contents",
   "title_sidebar": "Contents",
   "toc_cell": false,
   "toc_position": {},
   "toc_section_display": true,
   "toc_window_display": false
  }
 },
 "nbformat": 4,
 "nbformat_minor": 2
}
